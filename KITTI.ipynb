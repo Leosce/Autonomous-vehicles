{
 "cells": [
  {
   "cell_type": "code",
   "execution_count": 1,
   "id": "1ad2df80-f950-42d0-9cc5-3ab59589b011",
   "metadata": {},
   "outputs": [
    {
     "name": "stderr",
     "output_type": "stream",
     "text": [
      "C:\\Users\\user\\AppData\\Roaming\\Python\\Python38\\site-packages\\albumentations\\__init__.py:13: UserWarning: A new version of Albumentations is available: 2.0.6 (you have 1.4.18). Upgrade using: pip install -U albumentations. To disable automatic update checks, set the environment variable NO_ALBUMENTATIONS_UPDATE to 1.\n",
      "  check_for_updates()\n"
     ]
    }
   ],
   "source": [
    "import os\n",
    "from sklearn.model_selection import train_test_split\n",
    "from shutil import move\n",
    "from ultralytics import YOLO\n",
    "import cv2\n",
    "from PIL import Image\n",
    "import glob\n",
    "import albumentations as A\n",
    "import numpy as np\n",
    "from shutil import copy"
   ]
  },
  {
   "cell_type": "code",
   "execution_count": 11,
   "id": "5da1cef7-3806-4a5c-9e9d-c411daa2fcd3",
   "metadata": {},
   "outputs": [],
   "source": [
    "\n",
    "\n",
    "class_mapping = {\n",
    "    \"Car\": 0,\n",
    "    \"Van\": 1,\n",
    "    \"Truck\": 2,\n",
    "    \"Pedestrian\": 3,\n",
    "    \"Person_sitting\": 4,\n",
    "    \"Cyclist\": 5,\n",
    "    \"Tram\": 6,\n",
    "    \"Misc\": 7,\n",
    "    \"DontCare\": -1  # Typically ignored in training\n",
    "}\n",
    "\n",
    "\n",
    "def convert_kitti_to_yolo_folder(kitti_label_folder, output_folder, img_width, img_height):\n",
    "    for filename in os.listdir(kitti_label_folder):\n",
    "        if filename.endswith(\".txt\"):\n",
    "            kitti_label_file = os.path.join(kitti_label_folder, filename)\n",
    "            with open(kitti_label_file, \"r\") as file:\n",
    "                lines = file.readlines()\n",
    "\n",
    "            yolo_labels = []\n",
    "            for line in lines:\n",
    "                parts = line.strip().split()\n",
    "                class_name = parts[0]\n",
    "                class_id = class_mapping[class_name]\n",
    "                if class_name == \"DontCare\":\n",
    "                    continue\n",
    "\n",
    "                # Parse bounding box\n",
    "                x_min = float(parts[4])\n",
    "                y_min = float(parts[5])\n",
    "                x_max = float(parts[6])\n",
    "                y_max = float(parts[7])\n",
    "\n",
    "                x_center = (x_min + x_max) / 2 / img_width\n",
    "                y_center = (y_min + y_max) / 2 / img_height\n",
    "                width = (x_max - x_min) / img_width\n",
    "                height = (y_max - y_min) / img_height\n",
    "\n",
    "                \n",
    "                yolo_labels.append(f\"{class_id} {x_center} {y_center} {width} {height}\")\n",
    "\n",
    "            os.makedirs(output_folder, exist_ok=True)\n",
    "            output_file_path = os.path.join(output_folder, filename)\n",
    "            with open(output_file_path, \"w\") as out_file:\n",
    "                out_file.write(\"\\n\".join(yolo_labels))\n",
    "\n",
    "# Usage:\n",
    "convert_kitti_to_yolo_folder(\"annotations\", \"training/labels\", 1242, 375)"
   ]
  },
  {
   "cell_type": "code",
   "execution_count": 12,
   "id": "d55f1ab8-bb3f-4070-9c3e-cf56cfbf3112",
   "metadata": {},
   "outputs": [
    {
     "name": "stdout",
     "output_type": "stream",
     "text": [
      "Folder 'val/images' is empty.\n",
      "Folder 'val/images' is empty.\n",
      "Data has been successfully split!\n"
     ]
    }
   ],
   "source": [
    "def count_files(folder_path):\n",
    "    if not os.path.exists(folder_path):\n",
    "        print(f\"Folder '{folder_path}' does not exist.\")\n",
    "        return 0\n",
    "    \n",
    "    files = [f for f in os.listdir(folder_path) if os.path.isfile(os.path.join(folder_path, f))]\n",
    "    if not files:\n",
    "        print(f\"Folder '{folder_path}' is empty.\")\n",
    "        return 0\n",
    "\n",
    "    return len(files)\n",
    "\n",
    "\n",
    "\n",
    "img_count = count_files('val/images')\n",
    "label_count = count_files('val/images')\n",
    "\n",
    "if img_count<=1495 or label_count<=1495:\n",
    "    images_folder = 'training/images'\n",
    "    annotations_folder = \"training/labels\"\n",
    "    \n",
    "    #os.makedirs(train_folder, exist_ok=True)\n",
    "    \n",
    "    for filename in os.listdir(images_folder):\n",
    "        src_path = os.path.join(images_folder, filename)  # Construct full file path\n",
    "        #dst_path = os.path.join(train_folder, filename)\n",
    "        # copy2(src_path, dst_path)\n",
    "    \n",
    "    # Function to get the list of all images and annotations\n",
    "    def get_files(folder_path):\n",
    "        return [os.path.join(folder_path, f) for f in os.listdir(folder_path) if os.path.isfile(os.path.join(folder_path, f))]\n",
    "    \n",
    "    # Get the list of images and annotations\n",
    "    image_files = get_files(images_folder)\n",
    "    annotation_files = get_files(annotations_folder)\n",
    "    \n",
    "    # Split data into training and validation sets\n",
    "    train_images, val_images, train_annotations, val_annotations = train_test_split(\n",
    "        image_files, annotation_files, test_size=0.2, random_state=42\n",
    "    )\n",
    "    \n",
    "    # Paths for saving validation data\n",
    "    validation_images_folder = \"val/images\"\n",
    "    validation_annotations_folder = \"val/labels\"\n",
    "    \n",
    "    os.makedirs(validation_images_folder, exist_ok=True)\n",
    "    os.makedirs(validation_annotations_folder, exist_ok=True)\n",
    "    \n",
    "    # Function to copy files into validation folders\n",
    "    \n",
    "            \n",
    "    def move_to_validation(files, destination_folder):\n",
    "        for file_path in files:\n",
    "            move(file_path, destination_folder)\n",
    "    if img_count<=1495: # can be removed if you start from scratch\n",
    "        move_to_validation(val_images, validation_images_folder)\n",
    "    if label_count<=1495: # can be removed if you start from scratch\n",
    "        move_to_validation(val_annotations, validation_annotations_folder)\n",
    "    \n",
    "    print(\"Data has been successfully split!\")"
   ]
  },
  {
   "cell_type": "code",
   "execution_count": 38,
   "id": "5c8ab13a-ab2a-401a-89c0-8baf2c5a2723",
   "metadata": {},
   "outputs": [
    {
     "name": "stdout",
     "output_type": "stream",
     "text": [
      "{0: 92783, 1: 13516, 2: 7943, 3: 12882, 4: 2384, 5: 8007, 6: 7782, 7: 6738}\n",
      "Validation set class distribution: {0: 5889, 1: 570, 2: 227, 3: 916, 4: 39, 5: 308, 6: 95, 7: 187}\n"
     ]
    }
   ],
   "source": [
    "def count_classes(labels_dir):\n",
    "    class_counts = {0: 0, 1: 0, 2: 0, 3: 0, 4: 0, 5: 0, 6: 0, 7: 0}\n",
    "    \n",
    "    for label_file in glob.glob(os.path.join(labels_dir, \"*.txt\")):\n",
    "        with open(label_file, 'r') as f:\n",
    "            for line in f:\n",
    "                class_id = int(float(line.strip().split()[0]))\n",
    "                class_counts[class_id] += 1\n",
    "    \n",
    "    return class_counts\n",
    "\n",
    "# Check train dataset\n",
    "train_counts = count_classes(\"training/labels\")\n",
    "aug=count_classes(\"training/augmented_labels\")\n",
    "print(\"Training set class distribution:\", train_counts,aug)\n",
    "print()\n",
    "# Check validation dataset\n",
    "val_counts = count_classes(\"val/labels\")\n",
    "print(\"Validation set class distribution:\", val_counts)"
   ]
  },
  {
   "cell_type": "code",
   "execution_count": 25,
   "id": "f61892d4-95b2-45e0-b8a0-e9d92ae4376c",
   "metadata": {},
   "outputs": [],
   "source": [
    "# Define augmentation pipeline\n",
    "transform = A.Compose([\n",
    "    A.HorizontalFlip(p=0.5),\n",
    "    A.RandomBrightnessContrast(p=0.5),\n",
    "    A.Rotate(limit=10, p=0.5),\n",
    "    A.RandomScale(scale_limit=0.1, p=0.5),\n",
    "    A.ShiftScaleRotate(shift_limit=0.05, scale_limit=0.05, rotate_limit=10, p=0.5),\n",
    "],\n",
    "    bbox_params=A.BboxParams(format='yolo', label_fields=['labels'])\n",
    ")\n",
    "\n",
    "def augment_minority_classes(images_dir, labels_dir, output_images_dir, output_labels_dir, class_id, augmentation_factor):\n",
    "    os.makedirs(output_images_dir, exist_ok=True)\n",
    "    os.makedirs(output_labels_dir, exist_ok=True)\n",
    "    \n",
    "    # Collect all label files containing the minority class\n",
    "    minority_files = []\n",
    "    for label_file in os.listdir(labels_dir):\n",
    "        if not label_file.endswith('.txt'):\n",
    "            continue\n",
    "        label_path = os.path.join(labels_dir, label_file)\n",
    "        with open(label_path, 'r') as f:\n",
    "            for line in f:\n",
    "                class_val = line.strip().split()[0]\n",
    "                if int(float(class_val)) == class_id:\n",
    "                    minority_files.append(label_file.replace('.txt', ''))\n",
    "                    break\n",
    "    \n",
    "    # Augment each image containing the minority class\n",
    "    for file_base in minority_files:\n",
    "        img_path = os.path.join(images_dir, file_base + '.png').replace(\"\\\\\", \"/\")\n",
    "        label_path = os.path.join(labels_dir, file_base + '.txt').replace(\"\\\\\", \"/\")\n",
    "        \n",
    "        img = cv2.imread(img_path)\n",
    "        if img is None:\n",
    "            print(f\"Warning: Image {img_path} not found or unreadable.\")\n",
    "            continue\n",
    "        height, width = img.shape[:2]\n",
    "        \n",
    "        # Read bounding boxes\n",
    "        with open(label_path, 'r', encoding='utf-8') as f:\n",
    "            labels = [line.strip() for line in f]\n",
    "        \n",
    "        bboxes = []\n",
    "        class_ids = []\n",
    "        for label in labels:\n",
    "            parts = label.split()\n",
    "            cls_id = int(parts[0])\n",
    "            x_center, y_center, w, h = map(float, parts[1:5])\n",
    "            bboxes.append([x_center, y_center, w, h])\n",
    "            class_ids.append(cls_id)\n",
    "        \n",
    "        # Create multiple augmented versions\n",
    "        for i in range(augmentation_factor):\n",
    "            transformed = transform(image=img, bboxes=bboxes, labels=class_ids)\n",
    "            aug_img = transformed['image']\n",
    "            aug_bboxes = transformed['bboxes']\n",
    "            aug_class_ids = transformed['labels']\n",
    "            \n",
    "            # Save augmented image\n",
    "            aug_img_path = os.path.join(output_images_dir, f\"{file_base}_aug{i}.jpg\").replace(\"\\\\\", \"/\")\n",
    "            cv2.imwrite(aug_img_path, aug_img)\n",
    "            \n",
    "            # Save augmented labels\n",
    "            aug_label_path = os.path.join(output_labels_dir, f\"{file_base}_aug{i}.txt\").replace(\"\\\\\", \"/\")\n",
    "            with open(aug_label_path, 'w') as f:\n",
    "                for j in range(len(aug_bboxes)):\n",
    "                    x_center, y_center, w_box, h_box = aug_bboxes[j]\n",
    "                    cls = aug_class_ids[j]\n",
    "                    \n",
    "                    # Clip values to [0,1] to avoid bounding box errors\n",
    "                    x_center = np.clip(x_center, 0, 1)\n",
    "                    y_center = np.clip(y_center, 0, 1)\n",
    "                    w_box = np.clip(w_box, 0, 1)\n",
    "                    h_box = np.clip(h_box, 0, 1)\n",
    "                    \n",
    "                    f.write(f\"{cls} {x_center:.6f} {y_center:.6f} {w_box:.6f} {h_box:.6f}\\n\")"
   ]
  },
  {
   "cell_type": "code",
   "execution_count": 29,
   "id": "506c140e-8ad9-4a9c-8719-8a0643240654",
   "metadata": {},
   "outputs": [
    {
     "name": "stdout",
     "output_type": "stream",
     "text": [
      "Augmentation complete. Augmented images and labels saved to:\n",
      "- training/augmented_images\n",
      "- training/augmented_labels\n"
     ]
    }
   ],
   "source": [
    "augmented_images_dir = \"training/augmented_images\"\n",
    "augmented_labels_dir = \"training/augmented_labels\"\n",
    "\n",
    "\n",
    "augment_minority_classes(\n",
    "    \"training/images\", \n",
    "    \"training/labels\",\n",
    "    augmented_images_dir,\n",
    "    augmented_labels_dir,\n",
    "    class_id=1,  \n",
    "    augmentation_factor=3\n",
    ")\n",
    "\n",
    "augment_minority_classes(\n",
    "    \"training/images\", \n",
    "    \"training/labels\",\n",
    "    augmented_images_dir,\n",
    "    augmented_labels_dir,\n",
    "    class_id=2,  \n",
    "    augmentation_factor=8\n",
    ")\n",
    "\n",
    "augment_minority_classes(\n",
    "    \"training/images\", \n",
    "    \"training/labels\",\n",
    "    augmented_images_dir,\n",
    "    augmented_labels_dir,\n",
    "    class_id=3,\n",
    "    augmentation_factor=2  # Convert to integer - will create 1 augmented image per original\n",
    ")\n",
    "\n",
    "augment_minority_classes(\n",
    "    \"training/images\", \n",
    "    \"training/labels\",\n",
    "    augmented_images_dir,\n",
    "    augmented_labels_dir,\n",
    "    class_id=4,\n",
    "    augmentation_factor=30  # Convert to integer - will create 1 augmented image per original\n",
    ")\n",
    "\n",
    "augment_minority_classes(\n",
    "    \"training/images\", \n",
    "    \"training/labels\",\n",
    "    augmented_images_dir,\n",
    "    augmented_labels_dir,\n",
    "    class_id=5,\n",
    "    augmentation_factor=5  # Convert to integer - will create 1 augmented image per original\n",
    ")\n",
    "\n",
    "augment_minority_classes(\n",
    "    \"training/images\", \n",
    "    \"training/labels\",\n",
    "    augmented_images_dir,\n",
    "    augmented_labels_dir,\n",
    "    class_id=6,\n",
    "    augmentation_factor=20  # Convert to integer - will create 1 augmented image per original\n",
    ")\n",
    "\n",
    "augment_minority_classes(\n",
    "    \"training/images\", \n",
    "    \"training/labels\",\n",
    "    augmented_images_dir,\n",
    "    augmented_labels_dir,\n",
    "    class_id=7,\n",
    "    augmentation_factor=8  # Convert to integer - will create 1 augmented image per original\n",
    ")\n",
    "\n",
    "\n",
    "\n",
    "print(\"Augmentation complete. Augmented images and labels saved to:\")\n",
    "print(f\"- {augmented_images_dir}\")\n",
    "print(f\"- {augmented_labels_dir}\")"
   ]
  },
  {
   "cell_type": "code",
   "execution_count": 40,
   "id": "177d2c87-115a-4423-ad73-d0f02c5a18b9",
   "metadata": {},
   "outputs": [],
   "source": [
    "# remove tags after fully developed\n",
    "# for file in os.listdir(augmented_images_dir):\n",
    "#     src = os.path.join(augmented_images_dir, file)\n",
    "#     move(src, \"Dataset/train/images\")\n",
    "    \n",
    "# for file in os.listdir(augmented_labels_dir):\n",
    "#     src = os.path.join(augmented_labels_dir, file)\n",
    "#     move(src, \"Dataset/train/labels\")"
   ]
  },
  {
   "cell_type": "code",
   "execution_count": 43,
   "id": "1439f3ea-5923-45fa-8753-c16299258fc3",
   "metadata": {},
   "outputs": [],
   "source": [
    "t='training/images'\n",
    "for file in os.listdir(t):\n",
    "    src = os.path.join(t, file)\n",
    "    copy(src, augmented_images_dir)\n",
    "l='training/labels'\n",
    "for file in os.listdir(l):\n",
    "    src = os.path.join(l, file)\n",
    "    copy(src, augmented_labels_dir)"
   ]
  },
  {
   "cell_type": "code",
   "execution_count": 2,
   "id": "674f81d6-3145-4763-8f5b-ddaf84b94170",
   "metadata": {},
   "outputs": [
    {
     "name": "stdout",
     "output_type": "stream",
     "text": [
      "YOLOv8n summary: 129 layers, 3,157,200 parameters, 0 gradients, 8.9 GFLOPs\n",
      "Ultralytics 8.3.91  Python-3.8.20 torch-2.4.1+cu118 CUDA:0 (NVIDIA GeForce RTX 3050 Laptop GPU, 4096MiB)\n",
      "\u001b[34m\u001b[1mengine\\trainer: \u001b[0mtask=detect, mode=train, model=yolov8n.pt, data=split.yaml, epochs=5, time=None, patience=100, batch=8, imgsz=(1242, 375), save=True, save_period=-1, cache=False, device=None, workers=8, project=None, name=train6, exist_ok=False, pretrained=True, optimizer=auto, verbose=True, seed=0, deterministic=True, single_cls=False, rect=False, cos_lr=False, close_mosaic=10, resume=False, amp=True, fraction=1.0, profile=False, freeze=None, multi_scale=False, overlap_mask=True, mask_ratio=4, dropout=0.0, val=True, split=val, save_json=False, save_hybrid=False, conf=None, iou=0.7, max_det=300, half=False, dnn=False, plots=True, source=None, vid_stride=1, stream_buffer=False, visualize=False, augment=False, agnostic_nms=False, classes=None, retina_masks=False, embed=None, show=False, save_frames=False, save_txt=False, save_conf=False, save_crop=False, show_labels=True, show_conf=True, show_boxes=True, line_width=None, format=torchscript, keras=False, optimize=False, int8=False, dynamic=False, simplify=True, opset=None, workspace=None, nms=False, lr0=0.01, lrf=0.01, momentum=0.937, weight_decay=0.0005, warmup_epochs=3.0, warmup_momentum=0.8, warmup_bias_lr=0.1, box=7.5, cls=0.5, dfl=1.5, pose=12.0, kobj=1.0, nbs=64, hsv_h=0.015, hsv_s=0.7, hsv_v=0.4, degrees=0.0, translate=0.1, scale=0.5, shear=0.0, perspective=0.0, flipud=0.0, fliplr=0.5, bgr=0.0, mosaic=1.0, mixup=0.0, copy_paste=0.0, copy_paste_mode=flip, auto_augment=randaugment, erasing=0.4, crop_fraction=1.0, cfg=None, tracker=botsort.yaml, save_dir=runs\\detect\\train6\n",
      "Overriding model.yaml nc=80 with nc=8\n",
      "\n",
      "                   from  n    params  module                                       arguments                     \n",
      "  0                  -1  1       464  ultralytics.nn.modules.conv.Conv             [3, 16, 3, 2]                 \n",
      "  1                  -1  1      4672  ultralytics.nn.modules.conv.Conv             [16, 32, 3, 2]                \n",
      "  2                  -1  1      7360  ultralytics.nn.modules.block.C2f             [32, 32, 1, True]             \n",
      "  3                  -1  1     18560  ultralytics.nn.modules.conv.Conv             [32, 64, 3, 2]                \n",
      "  4                  -1  2     49664  ultralytics.nn.modules.block.C2f             [64, 64, 2, True]             \n",
      "  5                  -1  1     73984  ultralytics.nn.modules.conv.Conv             [64, 128, 3, 2]               \n",
      "  6                  -1  2    197632  ultralytics.nn.modules.block.C2f             [128, 128, 2, True]           \n",
      "  7                  -1  1    295424  ultralytics.nn.modules.conv.Conv             [128, 256, 3, 2]              \n",
      "  8                  -1  1    460288  ultralytics.nn.modules.block.C2f             [256, 256, 1, True]           \n",
      "  9                  -1  1    164608  ultralytics.nn.modules.block.SPPF            [256, 256, 5]                 \n",
      " 10                  -1  1         0  torch.nn.modules.upsampling.Upsample         [None, 2, 'nearest']          \n",
      " 11             [-1, 6]  1         0  ultralytics.nn.modules.conv.Concat           [1]                           \n",
      " 12                  -1  1    148224  ultralytics.nn.modules.block.C2f             [384, 128, 1]                 \n",
      " 13                  -1  1         0  torch.nn.modules.upsampling.Upsample         [None, 2, 'nearest']          \n",
      " 14             [-1, 4]  1         0  ultralytics.nn.modules.conv.Concat           [1]                           \n",
      " 15                  -1  1     37248  ultralytics.nn.modules.block.C2f             [192, 64, 1]                  \n",
      " 16                  -1  1     36992  ultralytics.nn.modules.conv.Conv             [64, 64, 3, 2]                \n",
      " 17            [-1, 12]  1         0  ultralytics.nn.modules.conv.Concat           [1]                           \n",
      " 18                  -1  1    123648  ultralytics.nn.modules.block.C2f             [192, 128, 1]                 \n",
      " 19                  -1  1    147712  ultralytics.nn.modules.conv.Conv             [128, 128, 3, 2]              \n",
      " 20             [-1, 9]  1         0  ultralytics.nn.modules.conv.Concat           [1]                           \n",
      " 21                  -1  1    493056  ultralytics.nn.modules.block.C2f             [384, 256, 1]                 \n",
      " 22        [15, 18, 21]  1    752872  ultralytics.nn.modules.head.Detect           [8, [64, 128, 256]]           \n",
      "Model summary: 129 layers, 3,012,408 parameters, 3,012,392 gradients, 8.2 GFLOPs\n",
      "\n",
      "Transferred 319/355 items from pretrained weights\n",
      "\u001b[34m\u001b[1mTensorBoard: \u001b[0mStart with 'tensorboard --logdir runs\\detect\\train6', view at http://localhost:6006/\n",
      "Freezing layer 'model.22.dfl.conv.weight'\n",
      "\u001b[34m\u001b[1mAMP: \u001b[0mrunning Automatic Mixed Precision (AMP) checks...\n",
      "\u001b[34m\u001b[1mAMP: \u001b[0mchecks passed \n",
      "WARNING  updating to 'imgsz=1242'. 'train' and 'val' imgsz must be an integer, while 'predict' and 'export' imgsz may be a [h, w] list or an integer, i.e. 'yolo export imgsz=640,480' or 'yolo export imgsz=640'\n",
      "WARNING  imgsz=[1242] must be multiple of max stride 32, updating to [1248]\n"
     ]
    },
    {
     "name": "stderr",
     "output_type": "stream",
     "text": [
      "\u001b[34m\u001b[1mtrain: \u001b[0mScanning C:\\Users\\user\\KITTI_detection\\training\\labels.cache... 5984 images, 0 backgrounds, 0 corrupt: 100%|██████████| 5984/5984 [00:00<?, ?it/s]\n"
     ]
    },
    {
     "name": "stdout",
     "output_type": "stream",
     "text": [
      "\u001b[34m\u001b[1malbumentations: \u001b[0mBlur(p=0.01, blur_limit=(3, 7)), MedianBlur(p=0.01, blur_limit=(3, 7)), ToGray(p=0.01, num_output_channels=3, method='weighted_average'), CLAHE(p=0.01, clip_limit=(1.0, 4.0), tile_grid_size=(8, 8))\n"
     ]
    },
    {
     "name": "stderr",
     "output_type": "stream",
     "text": [
      "\u001b[34m\u001b[1mval: \u001b[0mScanning C:\\Users\\user\\KITTI_detection\\val\\labels.cache... 1497 images, 0 backgrounds, 0 corrupt: 100%|██████████| 1497/1497 [00:00<?, ?it/s]\n"
     ]
    },
    {
     "name": "stdout",
     "output_type": "stream",
     "text": [
      "Plotting labels to runs\\detect\\train6\\labels.jpg... \n",
      "\u001b[34m\u001b[1moptimizer:\u001b[0m 'optimizer=auto' found, ignoring 'lr0=0.01' and 'momentum=0.937' and determining best 'optimizer', 'lr0' and 'momentum' automatically... \n",
      "\u001b[34m\u001b[1moptimizer:\u001b[0m AdamW(lr=0.000833, momentum=0.9) with parameter groups 57 weight(decay=0.0), 64 weight(decay=0.0005), 63 bias(decay=0.0)\n"
     ]
    },
    {
     "name": "stderr",
     "output_type": "stream",
     "text": [
      "2025/05/08 01:14:00 INFO mlflow.tracking.fluent: Autologging successfully enabled for sklearn.\n",
      "2025/05/08 01:14:00 INFO mlflow.tracking.fluent: Autologging successfully enabled for keras.\n",
      "2025/05/08 01:14:00 INFO mlflow.tracking.fluent: Autologging successfully enabled for tensorflow.\n"
     ]
    },
    {
     "name": "stdout",
     "output_type": "stream",
     "text": [
      "\u001b[34m\u001b[1mMLflow: \u001b[0mlogging run_id(2568967d7c4a4f4785a69e357d074c21) to runs\\mlflow\n",
      "\u001b[34m\u001b[1mMLflow: \u001b[0mview at http://127.0.0.1:5000 with 'mlflow server --backend-store-uri runs\\mlflow'\n",
      "\u001b[34m\u001b[1mMLflow: \u001b[0mdisable with 'yolo settings mlflow=False'\n",
      "\u001b[34m\u001b[1mTensorBoard: \u001b[0mmodel graph visualization added \n",
      "Image sizes 1248 train, 1248 val\n",
      "Using 8 dataloader workers\n",
      "Logging results to \u001b[1mruns\\detect\\train6\u001b[0m\n",
      "Starting training for 5 epochs...\n",
      "\n",
      "      Epoch    GPU_mem   box_loss   cls_loss   dfl_loss  Instances       Size\n"
     ]
    },
    {
     "name": "stderr",
     "output_type": "stream",
     "text": [
      "        1/5      4.12G      1.265      1.922      1.161         63       1248: 100%|██████████| 748/748 [43:06<00:00,  3.46s/it]\n",
      "                 Class     Images  Instances      Box(P          R      mAP50  mAP50-95): 100%|██████████| 94/94 [00:42<00:00,  2.22it/s]\n"
     ]
    },
    {
     "name": "stdout",
     "output_type": "stream",
     "text": [
      "                   all       1497       8231      0.519      0.483      0.465      0.282\n",
      "\n",
      "      Epoch    GPU_mem   box_loss   cls_loss   dfl_loss  Instances       Size\n"
     ]
    },
    {
     "name": "stderr",
     "output_type": "stream",
     "text": [
      "        2/5      4.09G      1.129      1.209        1.1         95       1248: 100%|██████████| 748/748 [22:01<00:00,  1.77s/it]\n",
      "                 Class     Images  Instances      Box(P          R      mAP50  mAP50-95): 100%|██████████| 94/94 [00:15<00:00,  6.24it/s]\n"
     ]
    },
    {
     "name": "stdout",
     "output_type": "stream",
     "text": [
      "                   all       1497       8231       0.63      0.581       0.62      0.388\n",
      "\n",
      "      Epoch    GPU_mem   box_loss   cls_loss   dfl_loss  Instances       Size\n"
     ]
    },
    {
     "name": "stderr",
     "output_type": "stream",
     "text": [
      "        3/5      3.99G      1.084     0.9987      1.082         95       1248: 100%|██████████| 748/748 [19:23<00:00,  1.56s/it]\n",
      "                 Class     Images  Instances      Box(P          R      mAP50  mAP50-95): 100%|██████████| 94/94 [00:15<00:00,  6.18it/s]\n"
     ]
    },
    {
     "name": "stdout",
     "output_type": "stream",
     "text": [
      "                   all       1497       8231      0.651      0.622      0.668      0.422\n",
      "\n",
      "      Epoch    GPU_mem   box_loss   cls_loss   dfl_loss  Instances       Size\n"
     ]
    },
    {
     "name": "stderr",
     "output_type": "stream",
     "text": [
      "        4/5      4.03G      1.035     0.8791      1.063        106       1248: 100%|██████████| 748/748 [30:40<00:00,  2.46s/it]\n",
      "                 Class     Images  Instances      Box(P          R      mAP50  mAP50-95): 100%|██████████| 94/94 [00:15<00:00,  6.20it/s]\n"
     ]
    },
    {
     "name": "stdout",
     "output_type": "stream",
     "text": [
      "                   all       1497       8231      0.703      0.673      0.718      0.469\n",
      "\n",
      "      Epoch    GPU_mem   box_loss   cls_loss   dfl_loss  Instances       Size\n"
     ]
    },
    {
     "name": "stderr",
     "output_type": "stream",
     "text": [
      "        5/5      3.89G     0.9784     0.7934      1.036         85       1248: 100%|██████████| 748/748 [06:06<00:00,  2.04it/s]\n",
      "                 Class     Images  Instances      Box(P          R      mAP50  mAP50-95): 100%|██████████| 94/94 [00:15<00:00,  6.25it/s]\n"
     ]
    },
    {
     "name": "stdout",
     "output_type": "stream",
     "text": [
      "                   all       1497       8231      0.745      0.733      0.769       0.52\n",
      "\n",
      "5 epochs completed in 2.053 hours.\n",
      "Optimizer stripped from runs\\detect\\train6\\weights\\last.pt, 6.3MB\n",
      "Optimizer stripped from runs\\detect\\train6\\weights\\best.pt, 6.3MB\n",
      "\n",
      "Validating runs\\detect\\train6\\weights\\best.pt...\n",
      "Ultralytics 8.3.91  Python-3.8.20 torch-2.4.1+cu118 CUDA:0 (NVIDIA GeForce RTX 3050 Laptop GPU, 4096MiB)\n",
      "Model summary (fused): 72 layers, 3,007,208 parameters, 0 gradients, 8.1 GFLOPs\n"
     ]
    },
    {
     "name": "stderr",
     "output_type": "stream",
     "text": [
      "                 Class     Images  Instances      Box(P          R      mAP50  mAP50-95): 100%|██████████| 94/94 [00:16<00:00,  5.71it/s]\n"
     ]
    },
    {
     "name": "stdout",
     "output_type": "stream",
     "text": [
      "                   all       1497       8231       0.75      0.732      0.769       0.52\n",
      "                   Car       1338       5889      0.884      0.896      0.945      0.739\n",
      "                   Van        427        570      0.844      0.779      0.883      0.672\n",
      "                 Truck        220        227       0.83      0.846      0.896      0.701\n",
      "            Pedestrian        359        916      0.761       0.59      0.696       0.35\n",
      "        Person_sitting         20         39      0.566      0.538      0.472      0.268\n",
      "               Cyclist        222        308      0.724      0.725      0.755      0.447\n",
      "                  Tram         62         95      0.674       0.85      0.839      0.525\n",
      "                  Misc        156        187       0.72      0.632      0.669      0.459\n",
      "Speed: 0.7ms preprocess, 3.1ms inference, 0.0ms loss, 1.3ms postprocess per image\n",
      "Results saved to \u001b[1mruns\\detect\\train6\u001b[0m\n",
      "\u001b[34m\u001b[1mMLflow: \u001b[0mresults logged to runs\\mlflow\n",
      "\u001b[34m\u001b[1mMLflow: \u001b[0mdisable with 'yolo settings mlflow=False'\n"
     ]
    }
   ],
   "source": [
    "model = YOLO(\"yolov8n.pt\")\n",
    "\n",
    "# Display model information (optional)\n",
    "model.info()\n",
    "\n",
    "results = model.train(data='split.yaml', epochs=5, batch=8, imgsz=(1242, 375))"
   ]
  },
  {
   "cell_type": "code",
   "execution_count": 3,
   "id": "f842ec9b-0244-4258-a43b-d9bfcf048b46",
   "metadata": {},
   "outputs": [],
   "source": [
    "os.makedirs('Models', exist_ok=True)\n",
    "model.save('Models/model2.pt')"
   ]
  },
  {
   "cell_type": "code",
   "execution_count": 5,
   "id": "b74422ae-f23d-4db0-9402-029ee79fd490",
   "metadata": {},
   "outputs": [
    {
     "data": {
      "text/plain": [
       "<Experiment: artifact_location='file:///C:/Users/user/KITTI_detection/mlruns/901954944670996395', creation_time=1746668551367, experiment_id='901954944670996395', last_update_time=1746668551367, lifecycle_stage='active', name='Autonomous Vehicle', tags={}>"
      ]
     },
     "execution_count": 5,
     "metadata": {},
     "output_type": "execute_result"
    }
   ],
   "source": [
    "# mlflow ui --backend-store-uri \"file:///C:/Users/user/KITTI_detection/mlruns\"\n",
    "import mlflow\n",
    "\n",
    "# Use local MLflow tracking (default path is ./mlruns)\n",
    "mlflow.set_tracking_uri(\"file:///C:/Users/user/KITTI_detection/mlruns\")\n",
    "mlflow.set_experiment(\"Autonomous Vehicle\")\n"
   ]
  },
  {
   "cell_type": "code",
   "execution_count": 6,
   "id": "84339120-f353-4daf-b42a-8fe176ec4368",
   "metadata": {},
   "outputs": [
    {
     "name": "stdout",
     "output_type": "stream",
     "text": [
      "file:///C:/Users/user/KITTI_detection/mlruns\n"
     ]
    }
   ],
   "source": [
    "print(mlflow.get_tracking_uri())"
   ]
  },
  {
   "cell_type": "code",
   "execution_count": 9,
   "id": "fbed905b-dd74-4ff1-b4dc-0b475ee6e52e",
   "metadata": {},
   "outputs": [
    {
     "name": "stdout",
     "output_type": "stream",
     "text": [
      "Logging metrics...\n",
      "Logging parameters...\n",
      "Logging tags...\n",
      "Logging artifacts...\n",
      "✅ All data logged to MLflow!\n"
     ]
    }
   ],
   "source": [
    "def log_timeseries_metrics(metrics_root):\n",
    "    for dirpath, _, filenames in os.walk(metrics_root):\n",
    "        for fname in filenames:\n",
    "            full_path = os.path.join(dirpath, fname)\n",
    "            try:\n",
    "                with open(full_path) as f:\n",
    "                    for line in f:\n",
    "                        parts = line.strip().split()\n",
    "                        if len(parts) == 3:\n",
    "                            _, value, step = parts\n",
    "                            rel_path = os.path.relpath(full_path, metrics_root)\n",
    "                            metric_name = rel_path.replace(\"\\\\\", \"/\")\n",
    "                            mlflow.log_metric(metric_name, float(value), step=int(step))\n",
    "            except Exception as e:\n",
    "                print(f\"Skipping metric {full_path}: {e}\")\n",
    "\n",
    "def log_params(params_root):\n",
    "    for fname in os.listdir(params_root):\n",
    "        fpath = os.path.join(params_root, fname)\n",
    "        try:\n",
    "            with open(fpath) as f:\n",
    "                value = f.read().strip()\n",
    "                mlflow.log_param(fname, value)\n",
    "        except Exception as e:\n",
    "            print(f\"Skipping param {fpath}: {e}\")\n",
    "\n",
    "def log_tags(tags_root):\n",
    "    for fname in os.listdir(tags_root):\n",
    "        fpath = os.path.join(tags_root, fname)\n",
    "        try:\n",
    "            with open(fpath) as f:\n",
    "                value = f.read().strip()\n",
    "                mlflow.set_tag(fname, value)\n",
    "        except Exception as e:\n",
    "            print(f\"Skipping tag {fpath}: {e}\")\n",
    "\n",
    "def log_artifacts(artifacts_root):\n",
    "    if os.path.exists(artifacts_root):\n",
    "        mlflow.log_artifacts(artifacts_root)\n",
    "\n",
    "# ---- MAIN ----\n",
    "run_path = r\"C:\\Users\\user\\KITTI_detection\\runs\\mlflow\\821983930449980226\\2568967d7c4a4f4785a69e357d074c21\"\n",
    "mlflow.set_tracking_uri(\"file:///C:/Users/user/KITTI_detection/mlruns\")\n",
    "mlflow.set_experiment(\"Autonomous Vehicle\")\n",
    "\n",
    "with mlflow.start_run(run_name=\"KITTI\"):\n",
    "    print(\"Logging metrics...\")\n",
    "    log_timeseries_metrics(os.path.join(run_path, \"metrics\"))\n",
    "    \n",
    "    print(\"Logging parameters...\")\n",
    "    log_params(os.path.join(run_path, \"params\"))\n",
    "\n",
    "    print(\"Logging tags...\")\n",
    "    log_tags(os.path.join(run_path, \"tags\"))\n",
    "\n",
    "    print(\"Logging artifacts...\")\n",
    "    log_artifacts(os.path.join(run_path, \"artifacts\"))\n",
    "\n",
    "print(\"✅ All data logged to MLflow!\")\n"
   ]
  },
  {
   "cell_type": "code",
   "execution_count": 4,
   "id": "e881e21c-a6dd-418f-8729-2062bd3ae067",
   "metadata": {},
   "outputs": [
    {
     "name": "stdout",
     "output_type": "stream",
     "text": [
      "\n",
      "WARNING  inference results will accumulate in RAM unless `stream=True` is passed, causing potential out-of-memory\n",
      "errors for large sources or long-running streams and videos. See https://docs.ultralytics.com/modes/predict/ for help.\n",
      "\n",
      "Example:\n",
      "    results = model(source=..., stream=True)  # generator of Results objects\n",
      "    for r in results:\n",
      "        boxes = r.boxes  # Boxes object for bbox outputs\n",
      "        masks = r.masks  # Masks object for segment masks outputs\n",
      "        probs = r.probs  # Class probabilities for classification outputs\n",
      "\n",
      "Results saved to \u001b[1mresults\\test_annotationss\u001b[0m\n"
     ]
    }
   ],
   "source": [
    "results = model.predict(\n",
    "    source=r'C:\\Users\\user\\KITTI_detection\\testing\\image_2',\n",
    "    conf=0.25,\n",
    "    save=True,\n",
    "    project='results',      # Custom project name\n",
    "    name='test_annotationss', # Custom folder name\n",
    "    verbose=False\n",
    ")"
   ]
  },
  {
   "cell_type": "code",
   "execution_count": 6,
   "id": "6447908b-5c5b-41bd-a91f-6bedceb3662a",
   "metadata": {},
   "outputs": [
    {
     "data": {
      "text/plain": [
       "<Figure size 2000x2000 with 5 Axes>"
      ]
     },
     "metadata": {},
     "output_type": "display_data"
    }
   ],
   "source": [
    "import os\n",
    "import random\n",
    "import cv2\n",
    "import matplotlib.pyplot as plt\n",
    "\n",
    "# Define the folder path using an absolute path\n",
    "folder_path = r'C:\\Users\\user\\KITTI_detection\\results\\test_annotationss'\n",
    "\n",
    "# Get a list of all files in the folder\n",
    "files = [f for f in os.listdir(folder_path) if os.path.isfile(os.path.join(folder_path, f))]\n",
    "\n",
    "# Create a figure with 5 subplots\n",
    "fig, ax = plt.subplots(ncols=5, figsize=(20, 20))\n",
    "\n",
    "for i in range(5):\n",
    "    # Choose a random file from the list\n",
    "    random_file = random.choice(files)\n",
    "    # Build the full image path\n",
    "    path = os.path.join(folder_path, random_file)\n",
    "    # Read the image using OpenCV\n",
    "    img = cv2.imread(path)\n",
    "    \n",
    "    if img is not None:\n",
    "        # Convert from BGR to RGB for matplotlib\n",
    "        img_rgb = cv2.cvtColor(img, cv2.COLOR_BGR2RGB)\n",
    "        ax[i].imshow(img_rgb)\n",
    "        ax[i].set_title(f'Image name: {random_file}')\n",
    "    else:\n",
    "        ax[i].text(0.5, 0.5, 'Image not found',\n",
    "                   horizontalalignment='center',\n",
    "                   verticalalignment='center', fontsize=12)\n",
    "        ax[i].set_title(f'Image name: {random_file}')\n",
    "\n",
    "# Display the figure with all images\n",
    "plt.show()\n"
   ]
  },
  {
   "cell_type": "code",
   "execution_count": null,
   "id": "d7f25a37-931d-43f7-9908-f14115f047d5",
   "metadata": {},
   "outputs": [],
   "source": []
  }
 ],
 "metadata": {
  "kernelspec": {
   "display_name": "Python 3 (ipykernel)",
   "language": "python",
   "name": "python3"
  },
  "language_info": {
   "codemirror_mode": {
    "name": "ipython",
    "version": 3
   },
   "file_extension": ".py",
   "mimetype": "text/x-python",
   "name": "python",
   "nbconvert_exporter": "python",
   "pygments_lexer": "ipython3",
   "version": "3.8.20"
  }
 },
 "nbformat": 4,
 "nbformat_minor": 5
}
